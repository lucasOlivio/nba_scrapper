{
 "cells": [
  {
   "cell_type": "code",
   "execution_count": 29,
   "metadata": {},
   "outputs": [],
   "source": [
    "from selenium import webdriver\n",
    "\n",
    "from pymongo import MongoClient\n",
    "import re\n",
    "import pandas as pd\n",
    "from bs4 import BeautifulSoup\n",
    "import json"
   ]
  },
  {
   "cell_type": "code",
   "execution_count": 9,
   "metadata": {},
   "outputs": [
    {
     "name": "stdout",
     "output_type": "stream",
     "text": [
      "{'id': 1628389, 'stats': {'Traditional Splits': [{'BY YEAR': '2018-19', 'TEAM': 'OKC', 'GP': '31', 'MIN': '19.0', 'PTS': '5.3', 'FGM': '1.8', 'FGA': '5.1', 'FG%': '35.7', '3PM': '1.3', '3PA': '4.1', '3P%': '32.3', 'FTM': '0.4', 'FTA': '0.4', 'FT%': '92.3', 'OREB': '0.2', 'DREB': '1.4', 'REB': '1.5', 'AST': '0.6', 'TOV': '0.5', 'STL': '0.5', 'BLK': '0.2', 'PF': '1.7', 'FP': '9.9', 'DD2': '0', 'TD3': '0', '+/-': '0.9'}, {'BY YEAR': '2017-18', 'TEAM': 'OKC', 'GP': '75', 'MIN': '15.1', 'PTS': '4.7', 'FGM': '1.5', 'FGA': '3.9', 'FG%': '39.5', '3PM': '1.1', '3PA': '2.9', '3P%': '38.0', 'FTM': '0.5', 'FTA': '0.6', 'FT%': '84.8', 'OREB': '0.3', 'DREB': '1.2', 'REB': '1.5', 'AST': '0.4', 'TOV': '0.3', 'STL': '0.5', 'BLK': '0.1', 'PF': '1.7', 'FP': '8.6', 'DD2': '0', 'TD3': '0', '+/-': '0.6'}, {'BY YEAR': '2016-17', 'TEAM': 'OKC', 'GP': '68', 'MIN': '15.5', 'PTS': '6.0', 'FGM': '2.0', 'FGA': '5.0', 'FG%': '39.3', '3PM': '1.4', '3PA': '3.6', '3P%': '38.1', 'FTM': '0.6', 'FTA': '0.7', 'FT%': '89.8', 'OREB': '0.3', 'DREB': '1.0', 'REB': '1.3', 'AST': '0.6', 'TOV': '0.5', 'STL': '0.5', 'BLK': '0.1', 'PF': '1.7', 'FP': '9.9', 'DD2': '0', 'TD3': '0', '+/-': '0.0'}], 'Advanced Splits': [{'BY YEAR': '2018-19', 'TEAM': 'OKC', 'GP': '31', 'MIN': '19.0', 'OFFRTG': '101.3', 'DEFRTG': '99.8', 'NETRTG': '1.6', 'AST%': '4.7', 'AST/TO': '1.43', 'AST RATIO': '10.2', 'OREB%': '0.7', 'DREB%': '6.7', 'REB%': '3.6', 'TO RATIO': '7.1', 'EFG%': '48.7', 'TS%': '50.7', 'USG%': '12.0', 'PACE': '104.40', 'PIE': '4.1'}, {'BY YEAR': '2017-18', 'TEAM': 'OKC', 'GP': '75', 'MIN': '15.1', 'OFFRTG': '107.7', 'DEFRTG': '106.5', 'NETRTG': '1.2', 'AST%': '3.6', 'AST/TO': '1.12', 'AST RATIO': '7.7', 'OREB%': '2.1', 'DREB%': '7.9', 'REB%': '4.9', 'TO RATIO': '6.9', 'EFG%': '54.0', 'TS%': '56.7', 'USG%': '12.6', 'PACE': '97.91', 'PIE': '4.8'}, {'BY YEAR': '2016-17', 'TEAM': 'OKC', 'GP': '68', 'MIN': '15.5', 'OFFRTG': '107.2', 'DEFRTG': '107.8', 'NETRTG': '-0.6', 'AST%': '5.5', 'AST/TO': '1.21', 'AST RATIO': '9.3', 'OREB%': '1.6', 'DREB%': '6.6', 'REB%': '4.0', 'TO RATIO': '7.6', 'EFG%': '53.1', 'TS%': '56.0', 'USG%': '15.3', 'PACE': '100.76', 'PIE': '5.2'}], 'Misc Splits': [{'BY YEAR': '2018-19', 'TEAM': 'OKC', 'GP': '31', 'MIN': '19.0', 'PTS OFF TO': '0.4', '2ND PTS': '0.6', 'FBPS': '0.6', 'PITP': '0.6', 'OPP\\nPTS OFF TO': '6.6', 'OPP\\n2ND PTS': '5.2', 'OPP\\nFBPS': '5.3', 'OPP\\nPITP': '19.4', 'BLK': '0.2', 'BLKA': '0.2', 'PF': '1.7', 'PFD': '1.0'}, {'BY YEAR': '2017-18', 'TEAM': 'OKC', 'GP': '75', 'MIN': '15.1', 'PTS OFF TO': '0.8', '2ND PTS': '0.6', 'FBPS': '0.7', 'PITP': '0.8', 'OPP\\nPTS OFF TO': '4.3', 'OPP\\n2ND PTS': '4.3', 'OPP\\nFBPS': '3.2', 'OPP\\nPITP': '13.5', 'BLK': '0.1', 'BLKA': '0.1', 'PF': '1.7', 'PFD': '0.7'}, {'BY YEAR': '2016-17', 'TEAM': 'OKC', 'GP': '68', 'MIN': '15.5', 'PTS OFF TO': '1.0', '2ND PTS': '0.5', 'FBPS': '1.1', 'PITP': '0.9', 'OPP\\nPTS OFF TO': '5.4', 'OPP\\n2ND PTS': '4.1', 'OPP\\nFBPS': '3.4', 'OPP\\nPITP': '15.7', 'BLK': '0.1', 'BLKA': '0.1', 'PF': '1.7', 'PFD': '0.8'}], 'Scoring Splits': [{'BY YEAR': '2018-19', 'TEAM': 'OKC', 'GP': '31', 'MIN': '19.0', '%FGA\\n2PT': '19.1', '%FGA\\n3PT': '80.9', '%PTS\\n2PT': '18.2', '%PTS\\n2PT MR': '6.1', '%PTS\\n3PT': '74.5', '%PTS\\nFBPS': '12.1', '%PTS\\nFT': '7.3', '%PTS\\nOFFTO': '6.7', '%PTS\\nPITP': '12.1', '2FGM\\n%AST': '80.0', '2FGM\\n%UAST': '20.0', '3FGM\\n%AST': '95.1', '3FGM\\n%UAST': '4.9', 'FGM\\n%AST': '91.1', 'FGM\\n%UAST': '8.9'}, {'BY YEAR': '2017-18', 'TEAM': 'OKC', 'GP': '75', 'MIN': '15.1', '%FGA\\n2PT': '24.1', '%FGA\\n3PT': '75.9', '%PTS\\n2PT': '17.6', '%PTS\\n2PT MR': '1.1', '%PTS\\n3PT': '71.4', '%PTS\\nFBPS': '15.6', '%PTS\\nFT': '11.0', '%PTS\\nOFFTO': '16.4', '%PTS\\nPITP': '16.4', '2FGM\\n%AST': '54.8', '2FGM\\n%UAST': '45.2', '3FGM\\n%AST': '100', '3FGM\\n%UAST': '0.0', 'FGM\\n%AST': '87.8', 'FGM\\n%UAST': '12.2'}, {'BY YEAR': '2016-17', 'TEAM': 'OKC', 'GP': '68', 'MIN': '15.5', '%FGA\\n2PT': '27.6', '%FGA\\n3PT': '72.4', '%PTS\\n2PT': '19.7', '%PTS\\n2PT MR': '4.9', '%PTS\\n3PT': '69.5', '%PTS\\nFBPS': '17.7', '%PTS\\nFT': '10.8', '%PTS\\nOFFTO': '16.5', '%PTS\\nPITP': '14.8', '2FGM\\n%AST': '60.0', '2FGM\\n%UAST': '40.0', '3FGM\\n%AST': '96.8', '3FGM\\n%UAST': '3.2', 'FGM\\n%AST': '85.8', 'FGM\\n%UAST': '14.2'}], 'Usage Splits': [{'BY YEAR': '2018-19', 'TEAM': 'OKC', 'GP': '31', 'MIN': '588', 'USG%': '12.0', '%FGM': '11.6', '%FGA': '14.1', '%3PM': '32.5', '%3PA': '31.9', '%FTM': '5.7', '%FTA': '4.2', '%OREB': '3.3', '%DREB': '9.9', '%REB': '8.2', '%AST': '8.1', '%TOV': '7.7', '%STL': '13.9', '%BLK': '7.7', '%BLKA': '10.7', '%PF': '17.7', '%PFD': '10.5', '%PTS': '12.7'}, {'BY YEAR': '2017-18', 'TEAM': 'OKC', 'GP': '75', 'MIN': '1134', 'USG%': '12.6', '%FGM': '12.9', '%FGA': '14.2', '%3PM': '29.7', '%3PA': '28.0', '%FTM': '9.0', '%FTA': '7.8', '%OREB': '9.8', '%DREB': '12.2', '%REB': '11.6', '%AST': '5.8', '%TOV': '8.1', '%STL': '19.0', '%BLK': '6.7', '%BLKA': '8.9', '%PF': '24.4', '%PFD': '10.3', '%PTS': '14.1'}, {'BY YEAR': '2016-17', 'TEAM': 'OKC', 'GP': '68', 'MIN': '1055', 'USG%': '15.3', '%FGM': '15.5', '%FGA': '17.6', '%3PM': '44.5', '%3PA': '40.3', '%FTM': '10.1', '%FTA': '8.7', '%OREB': '6.7', '%DREB': '9.4', '%REB': '8.7', '%AST': '8.6', '%TOV': '9.9', '%STL': '22.7', '%BLK': '7.5', '%BLKA': '6.0', '%PF': '24.1', '%PFD': '11.2', '%PTS': '17.1'}]}, 'name': 'Alex Abrines', 'position': ''}\n"
     ]
    }
   ],
   "source": [
    "player = {\n",
    "    'id': 1628389,\n",
    "    'stats': {}\n",
    "}\n",
    "browser = webdriver.Chrome(executable_path=\"./chromedriver\")\n",
    "browser.get(f'https://stats.nba.com/player/203518/?SeasonType=Regular%20Season')\n",
    "# Get player name and format it for the folder name\n",
    "name = browser.find_elements_by_xpath('//div[@class=\"player-summary__player-name\"]')\n",
    "position = browser.find_elements_by_xpath('//span[@ng-if=\"playerInfo.POSITION_INITIALS\"]')\n",
    "player['name'] = ' '.join(name[0].text.split('\\n'))\n",
    "player['position'] = position[0].text if len(position) > 0 else ''\n",
    "# Find the table where all the statistics tables are\n",
    "stats_tables = browser.find_elements_by_xpath('//nba-stat-table')\n",
    "# Iterate over each table and create your own csv file\n",
    "for index_table, stats_table in enumerate(stats_tables):\n",
    "    # Get the table name\n",
    "    caption_item = browser.find_elements_by_xpath('.//div[@class=\"nba-stat-table__caption\"]')\n",
    "    caption = 'Table'+str(index_table) if len(caption_item) == 0 else caption_item[index_table].text\n",
    "    player['stats'][caption] = []\n",
    "    # Get the columns names\n",
    "    head = []\n",
    "    col_list = stats_table.find_elements_by_xpath('.//div[@class=\"nba-stat-table__overflow\"]/table/thead/tr/th')\n",
    "    # Get the values of each row\n",
    "    row_list = stats_table.find_elements_by_xpath('.//div[@class=\"nba-stat-table__overflow\"]/table/tbody/tr')\n",
    "    for index_row, row in enumerate(row_list):\n",
    "        body = {}\n",
    "        body_col_list = row.find_elements_by_xpath('.//td')\n",
    "        for index_col, row_col in enumerate(body_col_list):\n",
    "            body[col_list[index_col].text] = row_col.text\n",
    "        player['stats'][caption].append(body)\n",
    "print(player)"
   ]
  },
  {
   "cell_type": "code",
   "execution_count": 34,
   "metadata": {},
   "outputs": [
    {
     "name": "stdout",
     "output_type": "stream",
     "text": [
      "Traditional Splits\n",
      "   By Year TEAM  GP   MIN  PTS  FGM  FGA   FG%  3PM  3PA  ...  REB  AST  TOV  \\\n",
      "0  2018-19  CLE  19  10.2  1.7  0.6  1.9  30.6  0.3  1.2  ...  1.0  0.3  0.3   \n",
      "\n",
      "   STL  BLK   PF   FP  DD2  TD3  +/-  \n",
      "0  0.1  0.2  0.7  3.8    0    0 -1.6  \n",
      "\n",
      "[1 rows x 26 columns]\n",
      "[{'By Year': '2018-19', 'TEAM': 'CLE', 'GP': 19, 'MIN': 10.2, 'PTS': 1.7, 'FGM': 0.6, 'FGA': 1.9, 'FG%': 30.6, '3PM': 0.3, '3PA': 1.2, '3P%': 26.1, 'FTM': 0.2, 'FTA': 0.2, 'FT%': 100, 'OREB': 0.2, 'DREB': 0.8, 'REB': 1.0, 'AST': 0.3, 'TOV': 0.3, 'STL': 0.1, 'BLK': 0.2, 'PF': 0.7, 'FP': 3.8, 'DD2': 0, 'TD3': 0, '+/-': -1.6}]\n",
      "Advanced Splits\n",
      "   By Year TEAM  GP   MIN  OffRtg  DefRtg  NetRtg  AST%  AST/TO  AST Ratio  \\\n",
      "0  2018-19  CLE  19  10.2   100.0   109.5    -9.5   3.8    0.83       10.2   \n",
      "\n",
      "   OREB%  DREB%  REB%  TO Ratio  eFG%   TS%  USG%   PACE  PIE  \n",
      "0    1.4    8.9   4.8      12.2  38.9  42.4   9.7  96.66  1.8  \n",
      "[{'By Year': '2018-19', 'TEAM': 'CLE', 'GP': 19, 'MIN': 10.2, 'OffRtg': 100.0, 'DefRtg': 109.5, 'NetRtg': -9.5, 'AST%': 3.8, 'AST/TO': 0.83, 'AST Ratio': 10.2, 'OREB%': 1.4, 'DREB%': 8.9, 'REB%': 4.8, 'TO Ratio': 12.2, 'eFG%': 38.9, 'TS%': 42.4, 'USG%': 9.7, 'PACE': 96.66, 'PIE': 1.8}]\n",
      "Misc Splits\n",
      "   By Year TEAM  GP   MIN  PTS OFF TO  2nd PTS  FBPs  PITP  Opp  PTS OFF TO  \\\n",
      "0  2018-19  CLE  19  10.2         0.3      0.1   0.0   0.3              3.1   \n",
      "\n",
      "   Opp  2nd PTS  Opp  FBPs  Opp  PITP  BLK  BLKA   PF  PFD  \n",
      "0           1.9        2.7       10.5  0.2   0.1  0.7  0.4  \n",
      "[{'By Year': '2018-19', 'TEAM': 'CLE', 'GP': 19, 'MIN': 10.2, 'PTS\\xa0OFF\\xa0TO': 0.3, '2nd\\xa0PTS': 0.1, 'FBPs': 0.0, 'PITP': 0.3, 'Opp  PTS\\xa0OFF\\xa0TO': 3.1, 'Opp  2nd\\xa0PTS': 1.9, 'Opp  FBPs': 2.7, 'Opp  PITP': 10.5, 'BLK': 0.2, 'BLKA': 0.1, 'PF': 0.7, 'PFD': 0.4}]\n",
      "Scoring Splits\n",
      "   By Year TEAM  GP   MIN  %FGA  2PT  %FGA  3PT  %PTS  2PT  %PTS  2PT MR  \\\n",
      "0  2018-19  CLE  19  10.2       36.1       63.9       31.3          12.5   \n",
      "\n",
      "   %PTS  3PT  %PTS  FBPs  %PTS  FT  %PTS  OffTO  %PTS  PITP  2FGM  %AST  \\\n",
      "0       56.3         0.0      12.5         15.6        18.8        60.0   \n",
      "\n",
      "   2FGM  %UAST  3FGM  %AST  3FGM  %UAST  FGM  %AST  FGM  %UAST  \n",
      "0         40.0         100          0.0       81.8        18.2  \n",
      "[{'By Year': '2018-19', 'TEAM': 'CLE', 'GP': 19, 'MIN': 10.2, '%FGA  2PT': 36.1, '%FGA  3PT': 63.9, '%PTS  2PT': 31.3, '%PTS  2PT\\xa0MR': 12.5, '%PTS  3PT': 56.3, '%PTS  FBPs': 0.0, '%PTS  FT': 12.5, '%PTS  OffTO': 15.6, '%PTS  PITP': 18.8, '2FGM  %AST': 60.0, '2FGM  %UAST': 40.0, '3FGM  %AST': 100, '3FGM  %UAST': 0.0, 'FGM  %AST': 81.8, 'FGM  %UAST': 18.2}]\n",
      "Usage Splits\n",
      "   By Year TEAM  GP  MIN  USG%  %FGM  %FGA  %3PM  %3PA  %FTM  ...  %DREB  \\\n",
      "0  2018-19  CLE  19  194   9.7   7.6  10.3  13.6  18.1   6.5  ...   12.2   \n",
      "\n",
      "   %REB  %AST  %TOV  %STL  %BLK  %BLKA   %PF  %PFD  %PTS  \n",
      "0  10.7   6.4  10.9   5.9  40.0    4.2  19.1  10.3   8.1  \n",
      "\n",
      "[1 rows x 22 columns]\n",
      "[{'By Year': '2018-19', 'TEAM': 'CLE', 'GP': 19, 'MIN': 194, 'USG%': 9.7, '%FGM': 7.6, '%FGA': 10.3, '%3PM': 13.6, '%3PA': 18.1, '%FTM': 6.5, '%FTA': 5.3, '%OREB': 6.5, '%DREB': 12.2, '%REB': 10.7, '%AST': 6.4, '%TOV': 10.9, '%STL': 5.9, '%BLK': 40.0, '%BLKA': 4.2, '%PF': 19.1, '%PFD': 10.3, '%PTS': 8.1}]\n"
     ]
    }
   ],
   "source": [
    "player = {\n",
    "    'id': 1628389,\n",
    "    'stats': {}\n",
    "}\n",
    "browser = webdriver.Chrome(executable_path=\"./chromedriver\")\n",
    "browser.get(f'https://stats.nba.com/player/1629061/?SeasonType=Regular%20Season')\n",
    "# Get player name and format it for the folder name\n",
    "name = browser.find_elements_by_xpath('//div[@class=\"player-summary__player-name\"]')\n",
    "position = browser.find_elements_by_xpath('//span[@ng-if=\"playerInfo.POSITION_INITIALS\"]')\n",
    "player['name'] = ' '.join(name[0].text.split('\\n'))\n",
    "player['position'] = position[0].text if len(position) > 0 else ''\n",
    "\n",
    "caption_item = browser.find_elements_by_xpath('.//div[@class=\"nba-stat-table__caption\"]')\n",
    "\n",
    "soup = BeautifulSoup(browser.page_source, 'lxml')\n",
    "tables = soup.findAll('nba-stat-table')\n",
    "\n",
    "for index, table in enumerate(tables):\n",
    "    df = pd.read_html(table.prettify())\n",
    "\n",
    "    print(caption_item[index].text)\n",
    "    print(df[0].head())\n",
    "    \n",
    "    json_stats = df[0].to_dict(orient='records')\n",
    "    \n",
    "    print(json_stats)"
   ]
  },
  {
   "cell_type": "code",
   "execution_count": null,
   "metadata": {},
   "outputs": [],
   "source": []
  }
 ],
 "metadata": {
  "kernelspec": {
   "display_name": "Python 3",
   "language": "python",
   "name": "python3"
  },
  "language_info": {
   "codemirror_mode": {
    "name": "ipython",
    "version": 3
   },
   "file_extension": ".py",
   "mimetype": "text/x-python",
   "name": "python",
   "nbconvert_exporter": "python",
   "pygments_lexer": "ipython3",
   "version": "3.6.9"
  }
 },
 "nbformat": 4,
 "nbformat_minor": 2
}
