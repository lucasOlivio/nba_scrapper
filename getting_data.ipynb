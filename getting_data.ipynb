{
 "cells": [
  {
   "cell_type": "code",
   "execution_count": 2,
   "metadata": {},
   "outputs": [],
   "source": [
    "from selenium import webdriver\n",
    "\n",
    "from pymongo import MongoClient\n",
    "import re\n",
    "import pandas as pd\n",
    "from bs4 import BeautifulSoup\n",
    "import json"
   ]
  },
  {
   "cell_type": "code",
   "execution_count": 3,
   "metadata": {},
   "outputs": [
    {
     "name": "stdout",
     "output_type": "stream",
     "text": [
      "{'id': 1629121, 'stats': {'Traditional Splits': [{'BY YEAR': '2018-19', 'TEAM': 'ATL', 'GP': '34', 'MIN': '12.6', 'PTS': '3.2', 'FGM': '1.1', 'FGA': '3.2', 'FG%': '34.5', '3PM': '0.7', '3PA': '2.2', '3P%': '33.8', 'FTM': '0.2', 'FTA': '0.3', 'FT%': '77.8', 'OREB': '0.3', 'DREB': '1.4', 'REB': '1.8', 'AST': '1.9', 'TOV': '0.8', 'STL': '0.4', 'BLK': '0.1', 'PF': '1.3', 'FP': '9.0', 'DD2': '0', 'TD3': '0', '+/-': '-1.7'}], 'Advanced Splits': [{'BY YEAR': '2018-19', 'TEAM': 'ATL', 'GP': '34', 'MIN': '12.6', 'OFFRTG': '102.5', 'DEFRTG': '109.1', 'NETRTG': '-6.5', 'AST%': '20.1', 'AST/TO': '2.32', 'AST RATIO': '31.6', 'OREB%': '2.2', 'DREB%': '10.9', 'REB%': '6.3', 'TO RATIO': '13.6', 'EFG%': '45.9', 'TS%': '47.4', 'USG%': '13.1', 'PACE': '106.81', 'PIE': '5.5'}], 'Misc Splits': [{'BY YEAR': '2018-19', 'TEAM': 'ATL', 'GP': '34', 'MIN': '12.6', 'PTS OFF TO': '0.6', '2ND PTS': '0.2', 'FBPS': '0.3', 'PITP': '0.5', 'OPP\\nPTS OFF TO': '4.7', 'OPP\\n2ND PTS': '4.0', 'OPP\\nFBPS': '3.2', 'OPP\\nPITP': '11.8', 'BLK': '0.1', 'BLKA': '0.2', 'PF': '1.3', 'PFD': '0.4'}], 'Scoring Splits': [{'BY YEAR': '2018-19', 'TEAM': 'ATL', 'GP': '34', 'MIN': '12.6', '%FGA\\n2PT': '32.7', '%FGA\\n3PT': '67.3', '%PTS\\n2PT': '24.1', '%PTS\\n2PT MR': '7.4', '%PTS\\n3PT': '69.4', '%PTS\\nFBPS': '8.3', '%PTS\\nFT': '6.5', '%PTS\\nOFFTO': '19.4', '%PTS\\nPITP': '16.7', '2FGM\\n%AST': '23.1', '2FGM\\n%UAST': '76.9', '3FGM\\n%AST': '84.0', '3FGM\\n%UAST': '16.0', 'FGM\\n%AST': '63.2', 'FGM\\n%UAST': '36.8'}], 'Usage Splits': [{'BY YEAR': '2018-19', 'TEAM': 'ATL', 'GP': '34', 'MIN': '428', 'USG%': '13.1', '%FGM': '10.5', '%FGA': '13.1', '%3PM': '17.2', '%3PA': '19.6', '%FTM': '6.4', '%FTA': '5.8', '%OREB': '11.1', '%DREB': '16.2', '%REB': '14.9', '%AST': '29.7', '%TOV': '21.2', '%STL': '17.9', '%BLK': '10.2', '%BLKA': '12.5', '%PF': '20.9', '%PFD': '8.8', '%PTS': '11.0'}]}, 'name': 'Jaylen Adams', 'position': 'G'}\n"
     ]
    }
   ],
   "source": [
    "player = {\n",
    "    'id': 1629121,\n",
    "    'stats': {}\n",
    "}\n",
    "browser = webdriver.Chrome(executable_path=\"./chromedriver\")\n",
    "browser.get(f'https://stats.nba.com/player/{player[\"id\"]}/?SeasonType=Regular%20Season')\n",
    "# Get player name and format it for the folder name\n",
    "name = browser.find_elements_by_xpath('//div[@class=\"player-summary__player-name\"]')\n",
    "position = browser.find_elements_by_xpath('//span[@ng-if=\"playerInfo.POSITION_INITIALS\"]')\n",
    "player['name'] = ' '.join(name[0].text.split('\\n'))\n",
    "player['position'] = position[0].text if len(position) > 0 else ''\n",
    "# Find the table where all the statistics tables are\n",
    "stats_tables = browser.find_elements_by_xpath('//nba-stat-table')\n",
    "# Iterate over each table and create your own csv file\n",
    "for index_table, stats_table in enumerate(stats_tables):\n",
    "    # Get the table name\n",
    "    caption_item = browser.find_elements_by_xpath('.//div[@class=\"nba-stat-table__caption\"]')\n",
    "    caption = 'Table'+str(index_table) if len(caption_item) == 0 else caption_item[index_table].text\n",
    "    player['stats'][caption] = []\n",
    "    # Get the columns names\n",
    "    head = []\n",
    "    col_list = stats_table.find_elements_by_xpath('.//div[@class=\"nba-stat-table__overflow\"]/table/thead/tr/th')\n",
    "    # Get the values of each row\n",
    "    row_list = stats_table.find_elements_by_xpath('.//div[@class=\"nba-stat-table__overflow\"]/table/tbody/tr')\n",
    "    for index_row, row in enumerate(row_list):\n",
    "        body = {}\n",
    "        body_col_list = row.find_elements_by_xpath('.//td')\n",
    "        for index_col, row_col in enumerate(body_col_list):\n",
    "            body[col_list[index_col].text] = row_col.text\n",
    "        player['stats'][caption].append(body)\n",
    "print(player)\n",
    "browser.close()"
   ]
  },
  {
   "cell_type": "code",
   "execution_count": 4,
   "metadata": {},
   "outputs": [
    {
     "name": "stdout",
     "output_type": "stream",
     "text": [
      "Traditional Splits\n",
      "   By Year TEAM  GP   MIN  PTS  FGM  FGA   FG%  3PM  3PA  ...  REB  AST  TOV  \\\n",
      "0  2018-19  ATL  34  12.6  3.2  1.1  3.2  34.5  0.7  2.2  ...  1.8  1.9  0.8   \n",
      "\n",
      "   STL  BLK   PF   FP  DD2  TD3  +/-  \n",
      "0  0.4  0.1  1.3  9.0    0    0 -1.7  \n",
      "\n",
      "[1 rows x 26 columns]\n",
      "[{'By Year': '2018-19', 'TEAM': 'ATL', 'GP': 34, 'MIN': 12.6, 'PTS': 3.2, 'FGM': 1.1, 'FGA': 3.2, 'FG%': 34.5, '3PM': 0.7, '3PA': 2.2, '3P%': 33.8, 'FTM': 0.2, 'FTA': 0.3, 'FT%': 77.8, 'OREB': 0.3, 'DREB': 1.4, 'REB': 1.8, 'AST': 1.9, 'TOV': 0.8, 'STL': 0.4, 'BLK': 0.1, 'PF': 1.3, 'FP': 9.0, 'DD2': 0, 'TD3': 0, '+/-': -1.7}]\n",
      "Advanced Splits\n",
      "   By Year TEAM  GP   MIN  OffRtg  DefRtg  NetRtg  AST%  AST/TO  AST Ratio  \\\n",
      "0  2018-19  ATL  34  12.6   102.5   109.1    -6.5  20.1    2.32       31.6   \n",
      "\n",
      "   OREB%  DREB%  REB%  TO Ratio  eFG%   TS%  USG%    PACE  PIE  \n",
      "0    2.2   10.9   6.3      13.6  45.9  47.4  13.1  106.81  5.5  \n",
      "[{'By Year': '2018-19', 'TEAM': 'ATL', 'GP': 34, 'MIN': 12.6, 'OffRtg': 102.5, 'DefRtg': 109.1, 'NetRtg': -6.5, 'AST%': 20.1, 'AST/TO': 2.32, 'AST Ratio': 31.6, 'OREB%': 2.2, 'DREB%': 10.9, 'REB%': 6.3, 'TO Ratio': 13.6, 'eFG%': 45.9, 'TS%': 47.4, 'USG%': 13.1, 'PACE': 106.81, 'PIE': 5.5}]\n",
      "Misc Splits\n",
      "   By Year TEAM  GP   MIN  PTS OFF TO  2nd PTS  FBPs  PITP  Opp  PTS OFF TO  \\\n",
      "0  2018-19  ATL  34  12.6         0.6      0.2   0.3   0.5              4.7   \n",
      "\n",
      "   Opp  2nd PTS  Opp  FBPs  Opp  PITP  BLK  BLKA   PF  PFD  \n",
      "0           4.0        3.2       11.8  0.1   0.2  1.3  0.4  \n",
      "[{'By Year': '2018-19', 'TEAM': 'ATL', 'GP': 34, 'MIN': 12.6, 'PTS\\xa0OFF\\xa0TO': 0.6, '2nd\\xa0PTS': 0.2, 'FBPs': 0.3, 'PITP': 0.5, 'Opp  PTS\\xa0OFF\\xa0TO': 4.7, 'Opp  2nd\\xa0PTS': 4.0, 'Opp  FBPs': 3.2, 'Opp  PITP': 11.8, 'BLK': 0.1, 'BLKA': 0.2, 'PF': 1.3, 'PFD': 0.4}]\n",
      "Scoring Splits\n",
      "   By Year TEAM  GP   MIN  %FGA  2PT  %FGA  3PT  %PTS  2PT  %PTS  2PT MR  \\\n",
      "0  2018-19  ATL  34  12.6       32.7       67.3       24.1           7.4   \n",
      "\n",
      "   %PTS  3PT  %PTS  FBPs  %PTS  FT  %PTS  OffTO  %PTS  PITP  2FGM  %AST  \\\n",
      "0       69.4         8.3       6.5         19.4        16.7        23.1   \n",
      "\n",
      "   2FGM  %UAST  3FGM  %AST  3FGM  %UAST  FGM  %AST  FGM  %UAST  \n",
      "0         76.9        84.0         16.0       63.2        36.8  \n",
      "[{'By Year': '2018-19', 'TEAM': 'ATL', 'GP': 34, 'MIN': 12.6, '%FGA  2PT': 32.7, '%FGA  3PT': 67.3, '%PTS  2PT': 24.1, '%PTS  2PT\\xa0MR': 7.4, '%PTS  3PT': 69.4, '%PTS  FBPs': 8.3, '%PTS  FT': 6.5, '%PTS  OffTO': 19.4, '%PTS  PITP': 16.7, '2FGM  %AST': 23.1, '2FGM  %UAST': 76.9, '3FGM  %AST': 84.0, '3FGM  %UAST': 16.0, 'FGM  %AST': 63.2, 'FGM  %UAST': 36.8}]\n",
      "Usage Splits\n",
      "   By Year TEAM  GP  MIN  USG%  %FGM  %FGA  %3PM  %3PA  %FTM  ...  %DREB  \\\n",
      "0  2018-19  ATL  34  428  13.1  10.5  13.1  17.2  19.6   6.4  ...   16.2   \n",
      "\n",
      "   %REB  %AST  %TOV  %STL  %BLK  %BLKA   %PF  %PFD  %PTS  \n",
      "0  14.9  29.7  21.2  17.9  10.2   12.5  20.9   8.8  11.0  \n",
      "\n",
      "[1 rows x 22 columns]\n",
      "[{'By Year': '2018-19', 'TEAM': 'ATL', 'GP': 34, 'MIN': 428, 'USG%': 13.1, '%FGM': 10.5, '%FGA': 13.1, '%3PM': 17.2, '%3PA': 19.6, '%FTM': 6.4, '%FTA': 5.8, '%OREB': 11.1, '%DREB': 16.2, '%REB': 14.9, '%AST': 29.7, '%TOV': 21.2, '%STL': 17.9, '%BLK': 10.2, '%BLKA': 12.5, '%PF': 20.9, '%PFD': 8.8, '%PTS': 11.0}]\n"
     ]
    }
   ],
   "source": [
    "player = {\n",
    "    'id': 1629121,\n",
    "    'stats': {}\n",
    "}\n",
    "browser = webdriver.Chrome(executable_path=\"./chromedriver\")\n",
    "browser.get(f'https://stats.nba.com/player/{player[\"id\"]}/?SeasonType=Regular%20Season')\n",
    "# Get player name and format it for the folder name\n",
    "name = browser.find_elements_by_xpath('//div[@class=\"player-summary__player-name\"]')\n",
    "position = browser.find_elements_by_xpath('//span[@ng-if=\"playerInfo.POSITION_INITIALS\"]')\n",
    "player['name'] = ' '.join(name[0].text.split('\\n'))\n",
    "player['position'] = position[0].text if len(position) > 0 else ''\n",
    "\n",
    "caption_item = browser.find_elements_by_xpath('.//div[@class=\"nba-stat-table__caption\"]')\n",
    "\n",
    "soup = BeautifulSoup(browser.page_source, 'lxml')\n",
    "tables = soup.findAll('nba-stat-table')\n",
    "\n",
    "for index, table in enumerate(tables):\n",
    "    df = pd.read_html(table.prettify())\n",
    "\n",
    "    print(caption_item[index].text)\n",
    "    print(df[0].head())\n",
    "    \n",
    "    json_stats = df[0].to_dict(orient='records')\n",
    "    \n",
    "    print(json_stats)\n",
    "browser.close()"
   ]
  },
  {
   "cell_type": "code",
   "execution_count": null,
   "metadata": {},
   "outputs": [],
   "source": []
  }
 ],
 "metadata": {
  "kernelspec": {
   "display_name": "Python 3",
   "language": "python",
   "name": "python3"
  },
  "language_info": {
   "codemirror_mode": {
    "name": "ipython",
    "version": 3
   },
   "file_extension": ".py",
   "mimetype": "text/x-python",
   "name": "python",
   "nbconvert_exporter": "python",
   "pygments_lexer": "ipython3",
   "version": "3.6.9"
  }
 },
 "nbformat": 4,
 "nbformat_minor": 2
}
